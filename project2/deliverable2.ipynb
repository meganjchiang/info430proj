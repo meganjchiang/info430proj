{
 "cells": [
  {
   "cell_type": "code",
   "execution_count": 54,
   "id": "94f721a5-567f-468f-ae9c-3a283e926170",
   "metadata": {
    "tags": []
   },
   "outputs": [],
   "source": [
    "# Install Kaggle\n",
    "# !pip install kaggle"
   ]
  },
  {
   "cell_type": "code",
   "execution_count": 55,
   "id": "9497a8c4-d825-4b3e-953c-0b820b8d8047",
   "metadata": {
    "tags": []
   },
   "outputs": [],
   "source": [
    "# Import necessary libraries\n",
    "# import kaggle  #kaggle API\n",
    "import zipfile  # for working with zip files\n",
    "from zipfile import ZipFile  # for working with zip files\n",
    "# from io import bytesOI\n",
    "import pandas as pd\n",
    "from urllib.request import urlopen\n",
    "import os\n",
    "import pycountry"
   ]
  },
  {
   "cell_type": "markdown",
   "id": "906a910d",
   "metadata": {},
   "source": [
    "# 1. Extracting Data\n",
    "## Write code to extract the 31 country files from the emissions dataset that you are using for the project."
   ]
  },
  {
   "cell_type": "code",
   "execution_count": 56,
   "id": "d675f5f2-7454-4363-80cd-6ee9898686d4",
   "metadata": {
    "tags": []
   },
   "outputs": [
    {
     "name": "stdout",
     "output_type": "stream",
     "text": [
      "   sectorID              sectorName\n",
      "0         1             agriculture\n",
      "1         2               buildings\n",
      "2         3       fluorinated_gases\n",
      "3         4  fossil_fuel_operations\n",
      "4         5           manufacturing\n",
      "5         6      mineral_extraction\n",
      "6         7                   power\n",
      "7         8                   waste\n"
     ]
    }
   ],
   "source": [
    "# Dataframe for sector\n",
    "sector_data = {'sectorName': ['agriculture', 'buildings', 'fluorinated_gases', 'fossil_fuel_operations', 'manufacturing', 'mineral_extraction', 'power', 'waste']}\n",
    "dimSector = pd.DataFrame(sector_data)\n",
    "dimSector.insert(0, 'sectorID', range(1, len(dimSector) + 1))\n",
    "print(dimSector)"
   ]
  },
  {
   "cell_type": "code",
   "execution_count": 57,
   "id": "fd09b25e-37c9-4626-977e-617fc2270ece",
   "metadata": {
    "tags": []
   },
   "outputs": [
    {
     "name": "stdout",
     "output_type": "stream",
     "text": [
      "    subsectorID                                     subsectorName  sectorID\n",
      "0             1                                    cropland-fires         1\n",
      "1             2                              enteric-fermentation         1\n",
      "2             3                                 manure-management         1\n",
      "3             4                 other-agricultural-soil-emissions         1\n",
      "4             5                                  rice-cultivation         1\n",
      "5             6                  synthetic-fertilizer-application         1\n",
      "6             7                           other-onsite-fuel-usage         2\n",
      "7             8      residential-and-commercial-onsite-fuel-usage         2\n",
      "8             9                                 fluorinated-gases         3\n",
      "9            10                                       coal-mining         4\n",
      "10           11              oil-and-gas-production-and-transport         4\n",
      "11           12                              oil-and-gas-refining         4\n",
      "12           13                      other-fossil-fuel-operations         4\n",
      "13           14                         solid-fuel-transformation         4\n",
      "14           15                                          aluminum         5\n",
      "15           16                                            cement         5\n",
      "16           17                                         chemicals         5\n",
      "17           18                               other-manufacturing         5\n",
      "18           19                                    pulp-and-paper         5\n",
      "19           20                                             steel         5\n",
      "20           21                                    bauxite-mining         6\n",
      "21           22                                     copper-mining         6\n",
      "22           23                                       iron-mining         6\n",
      "23           24                                    rock-quarrying         6\n",
      "24           25                                    sand-quarrying         6\n",
      "25           26                            electricity-generation         7\n",
      "26           27                                  other-energy-use         7\n",
      "27           28  biological-treatment-of-solid-waste-and-biogenic         8\n",
      "28           29            incineration-and-open-burning-of-waste         8\n",
      "29           30                              solid-waste-disposal         8\n",
      "30           31                wastewater-treatment-and-discharge         8\n"
     ]
    }
   ],
   "source": [
    "# Dataframe for subsector\n",
    "subsector_data = {\n",
    "    'subsectorName': [\n",
    "        # Agriculture\n",
    "        'cropland-fires', 'enteric-fermentation', 'manure-management',\n",
    "        'other-agricultural-soil-emissions', 'rice-cultivation', 'synthetic-fertilizer-application',\n",
    "        \n",
    "        # Buildings\n",
    "        'other-onsite-fuel-usage', 'residential-and-commercial-onsite-fuel-usage',\n",
    "        \n",
    "        # Fluorinated Gases\n",
    "        'fluorinated-gases',\n",
    "        \n",
    "        # Fossil Fuel Operations\n",
    "        'coal-mining', 'oil-and-gas-production-and-transport', 'oil-and-gas-refining',\n",
    "        'other-fossil-fuel-operations', 'solid-fuel-transformation',\n",
    "        \n",
    "        # Manufacturing\n",
    "        'aluminum', 'cement', 'chemicals', 'other-manufacturing', 'pulp-and-paper', 'steel',\n",
    "        \n",
    "        # Mineral Extraction\n",
    "        'bauxite-mining', 'copper-mining', 'iron-mining', 'rock-quarrying', 'sand-quarrying',\n",
    "        \n",
    "        # Power\n",
    "        'electricity-generation', 'other-energy-use',\n",
    "        \n",
    "        # Waste\n",
    "        'biological-treatment-of-solid-waste-and-biogenic', 'incineration-and-open-burning-of-waste',\n",
    "        'solid-waste-disposal', 'wastewater-treatment-and-discharge'\n",
    "    ],\n",
    "    'sectorName': [\n",
    "        # Agriculture\n",
    "        'agriculture', 'agriculture', 'agriculture',\n",
    "        'agriculture', 'agriculture', 'agriculture',\n",
    "        \n",
    "        # Buildings\n",
    "        'buildings', 'buildings',\n",
    "        \n",
    "        # Fluorinated Gases\n",
    "        'fluorinated_gases',\n",
    "        \n",
    "        # Fossil Fuel Operations\n",
    "        'fossil_fuel_operations', 'fossil_fuel_operations', 'fossil_fuel_operations',\n",
    "        'fossil_fuel_operations', 'fossil_fuel_operations',\n",
    "        \n",
    "        # Manufacturing\n",
    "        'manufacturing', 'manufacturing', 'manufacturing', 'manufacturing', 'manufacturing', 'manufacturing',\n",
    "        \n",
    "        # Mineral Extraction\n",
    "        'mineral_extraction', 'mineral_extraction', 'mineral_extraction', 'mineral_extraction', 'mineral_extraction',\n",
    "        \n",
    "        # Power\n",
    "        'power', 'power',\n",
    "        \n",
    "        # Waste\n",
    "        'waste', 'waste', 'waste', 'waste'\n",
    "    ]\n",
    "}\n",
    "\n",
    "dimSubSector = pd.DataFrame(subsector_data)\n",
    "dimSubSector = dimSubSector.merge(dimSector, on='sectorName')\n",
    "dimSubSector.insert(0, 'subsectorID', range(1, len(dimSubSector) + 1))\n",
    "dimSubSector.drop(columns=['sectorName'], inplace=True)\n",
    "print(dimSubSector)"
   ]
  },
  {
   "cell_type": "code",
   "execution_count": 58,
   "id": "a3d86073-0cd7-42b0-bbf2-4f1880fb7955",
   "metadata": {
    "tags": []
   },
   "outputs": [
    {
     "name": "stdout",
     "output_type": "stream",
     "text": [
      "       iso3_country           start_time             end_time  \\\n",
      "0               MKD  2020-01-01 00:00:00  2020-12-31 00:00:00   \n",
      "1               MKD  2020-01-01 00:00:00  2020-12-31 00:00:00   \n",
      "2               MLI  2020-01-01 00:00:00  2020-12-31 00:00:00   \n",
      "3               MLI  2020-01-01 00:00:00  2020-12-31 00:00:00   \n",
      "4               MLT  2020-01-01 00:00:00  2020-12-31 00:00:00   \n",
      "...             ...                  ...                  ...   \n",
      "256935          SMR  2021-01-01 00:00:00  2021-12-31 00:00:00   \n",
      "256936          SMR  2021-01-01 00:00:00  2021-12-31 00:00:00   \n",
      "256937          SMR  2021-01-01 00:00:00  2021-12-31 00:00:00   \n",
      "256938          SMR  2021-01-01 00:00:00  2021-12-31 00:00:00   \n",
      "256939          WLF  2021-01-01 00:00:00  2021-12-31 00:00:00   \n",
      "\n",
      "                             original_inventory_sector         gas  \\\n",
      "0                    other-agricultural-soil-emissions         co2   \n",
      "1                    other-agricultural-soil-emissions         ch4   \n",
      "2                    other-agricultural-soil-emissions         co2   \n",
      "3                    other-agricultural-soil-emissions         ch4   \n",
      "4                    other-agricultural-soil-emissions         co2   \n",
      "...                                                ...         ...   \n",
      "256935  biological-treatment-of-solid-waste-&-biogenic         n2o   \n",
      "256936  biological-treatment-of-solid-waste-&-biogenic         ch4   \n",
      "256937  biological-treatment-of-solid-waste-&-biogenic   co2e_20yr   \n",
      "256938  biological-treatment-of-solid-waste-&-biogenic  co2e_100yr   \n",
      "256939  biological-treatment-of-solid-waste-&-biogenic  co2e_100yr   \n",
      "\n",
      "        emissions_quantity emissions_quantity_units temporal_granularity  \\\n",
      "0                      0.0                   tonnes                  NaN   \n",
      "1                      0.0                   tonnes                  NaN   \n",
      "2                      0.0                   tonnes                  NaN   \n",
      "3                      0.0                   tonnes                  NaN   \n",
      "4                      0.0                   tonnes                  NaN   \n",
      "...                    ...                      ...                  ...   \n",
      "256935                 NaN                   tonnes                  NaN   \n",
      "256936                 NaN                   tonnes                  NaN   \n",
      "256937                 NaN                   tonnes                  NaN   \n",
      "256938                 NaN                   tonnes                  NaN   \n",
      "256939                 NaN                   tonnes                  NaN   \n",
      "\n",
      "                     created_date modified_date  \n",
      "0       2022-09-06 12:39:52.76017           NaN  \n",
      "1       2022-09-06 12:39:52.76017           NaN  \n",
      "2       2022-09-06 12:39:52.76017           NaN  \n",
      "3       2022-09-06 12:39:52.76017           NaN  \n",
      "4       2022-09-06 12:39:52.76017           NaN  \n",
      "...                           ...           ...  \n",
      "256935  2022-09-07 09:56:37.90632           NaN  \n",
      "256936  2022-09-07 09:56:37.90632           NaN  \n",
      "256937  2022-09-07 09:56:37.90632           NaN  \n",
      "256938  2022-09-07 09:56:37.90632           NaN  \n",
      "256939  2022-09-07 09:56:37.90632           NaN  \n",
      "\n",
      "[256940 rows x 10 columns]\n"
     ]
    }
   ],
   "source": [
    "# Combined csv will all the data\n",
    "main_directory = 'data/'\n",
    "dataframes = []\n",
    "\n",
    "for root, dirs, files in os.walk(main_directory):\n",
    "    for file in files:\n",
    "        if file.endswith('.csv'):\n",
    "            file_path = os.path.join(root, file)\n",
    "            df = pd.read_csv(file_path)\n",
    "            dataframes.append(df)\n",
    "\n",
    "combined_df = pd.concat(dataframes, ignore_index=True)\n",
    "print(combined_df)"
   ]
  },
  {
   "cell_type": "code",
   "execution_count": 59,
   "id": "53590844-a798-4cfe-acd3-228a084aa87d",
   "metadata": {
    "tags": []
   },
   "outputs": [
    {
     "name": "stdout",
     "output_type": "stream",
     "text": [
      "     countryID countryCode                                   countryName\n",
      "0            1         MKD                               North Macedonia\n",
      "1            2         MLI                                          Mali\n",
      "2            3         MLT                                         Malta\n",
      "3            4         MMR                                       Myanmar\n",
      "4            5         ABW                                         Aruba\n",
      "..         ...         ...                                           ...\n",
      "246        247         VAT                 Holy See (Vatican City State)\n",
      "247        248         CCK                       Cocos (Keeling) Islands\n",
      "248        249         CXR                              Christmas Island\n",
      "249        250         SGS  South Georgia and the South Sandwich Islands\n",
      "250        251         SMR                                    San Marino\n",
      "\n",
      "[251 rows x 3 columns]\n"
     ]
    }
   ],
   "source": [
    "# Dataframe for country\n",
    "dimCountry = combined_df['iso3_country'].unique()\n",
    "dimCountry = pd.DataFrame(dimCountry, columns=['countryCode'])\n",
    "dimCountry.insert(0, 'countryID', range(1, len(dimCountry) + 1))\n",
    "\n",
    "def get_country_name(code):\n",
    "    try:\n",
    "        return pycountry.countries.get(alpha_3=code).name\n",
    "    except AttributeError:\n",
    "        return 'Unknown'\n",
    "\n",
    "dimCountry['countryName'] = dimCountry['countryCode'].apply(get_country_name)\n",
    "print(dimCountry)"
   ]
  },
  {
   "cell_type": "code",
   "execution_count": 60,
   "id": "555ea41d-41e3-4e55-b7fc-c34185a86307",
   "metadata": {
    "tags": []
   },
   "outputs": [
    {
     "name": "stdout",
     "output_type": "stream",
     "text": [
      "   gasID     gasName\n",
      "0      1         co2\n",
      "1      2         ch4\n",
      "2      3         n2o\n",
      "3      4   co2e_20yr\n",
      "4      5  co2e_100yr\n"
     ]
    }
   ],
   "source": [
    "# Dataframe for gas\n",
    "dimGas = combined_df['gas'].unique()\n",
    "dimGas = pd.DataFrame(dimGas, columns=['gasName'])\n",
    "dimGas.insert(0, 'gasID', range(1, len(dimGas) + 1))\n",
    "print(dimGas)"
   ]
  },
  {
   "cell_type": "code",
   "execution_count": 61,
   "id": "35f7e02f-3e50-41e5-9d40-1ebb4a465570",
   "metadata": {
    "tags": []
   },
   "outputs": [
    {
     "name": "stdout",
     "output_type": "stream",
     "text": [
      "   yearID yearName\n",
      "0       1     2020\n",
      "1       2     2019\n",
      "2       3     2018\n",
      "3       4     2017\n",
      "4       5     2016\n",
      "5       6     2015\n",
      "6       7     2021\n",
      "7       8     2022\n"
     ]
    }
   ],
   "source": [
    "# Dataframe for year \n",
    "dimYear = combined_df['start_time'].astype(str).str[:4].unique()\n",
    "dimYear = pd.DataFrame(dimYear, columns=['yearName'])\n",
    "dimYear.insert(0, 'yearID', range(1, len(dimYear) + 1))\n",
    "print(dimYear)"
   ]
  },
  {
   "cell_type": "code",
   "execution_count": 62,
   "id": "42e2acb9-0225-4386-8fcd-654d87e68971",
   "metadata": {
    "tags": []
   },
   "outputs": [],
   "source": [
    "# Dataframe for emission"
   ]
  },
  {
   "cell_type": "markdown",
   "id": "333ea591",
   "metadata": {},
   "source": [
    "# 2.1. Cleaning the data"
   ]
  },
  {
   "cell_type": "code",
   "execution_count": 63,
   "id": "6b439f0a",
   "metadata": {},
   "outputs": [
    {
     "data": {
      "text/html": [
       "<div>\n",
       "<style scoped>\n",
       "    .dataframe tbody tr th:only-of-type {\n",
       "        vertical-align: middle;\n",
       "    }\n",
       "\n",
       "    .dataframe tbody tr th {\n",
       "        vertical-align: top;\n",
       "    }\n",
       "\n",
       "    .dataframe thead th {\n",
       "        text-align: right;\n",
       "    }\n",
       "</style>\n",
       "<table border=\"1\" class=\"dataframe\">\n",
       "  <thead>\n",
       "    <tr style=\"text-align: right;\">\n",
       "      <th></th>\n",
       "      <th>countryID</th>\n",
       "      <th>countryCode</th>\n",
       "      <th>countryName</th>\n",
       "    </tr>\n",
       "  </thead>\n",
       "  <tbody>\n",
       "    <tr>\n",
       "      <th>221</th>\n",
       "      <td>222</td>\n",
       "      <td>SCG</td>\n",
       "      <td>Unknown</td>\n",
       "    </tr>\n",
       "    <tr>\n",
       "      <th>245</th>\n",
       "      <td>246</td>\n",
       "      <td>XKX</td>\n",
       "      <td>Unknown</td>\n",
       "    </tr>\n",
       "  </tbody>\n",
       "</table>\n",
       "</div>"
      ],
      "text/plain": [
       "     countryID countryCode countryName\n",
       "221        222         SCG     Unknown\n",
       "245        246         XKX     Unknown"
      ]
     },
     "execution_count": 63,
     "metadata": {},
     "output_type": "execute_result"
    }
   ],
   "source": [
    "# fix countries that were not mapped correctly\n",
    "dimCountry[dimCountry['countryName'] == 'Unknown']"
   ]
  },
  {
   "cell_type": "code",
   "execution_count": 64,
   "id": "a0c44af2",
   "metadata": {},
   "outputs": [
    {
     "data": {
      "text/html": [
       "<div>\n",
       "<style scoped>\n",
       "    .dataframe tbody tr th:only-of-type {\n",
       "        vertical-align: middle;\n",
       "    }\n",
       "\n",
       "    .dataframe tbody tr th {\n",
       "        vertical-align: top;\n",
       "    }\n",
       "\n",
       "    .dataframe thead th {\n",
       "        text-align: right;\n",
       "    }\n",
       "</style>\n",
       "<table border=\"1\" class=\"dataframe\">\n",
       "  <thead>\n",
       "    <tr style=\"text-align: right;\">\n",
       "      <th></th>\n",
       "      <th>countryID</th>\n",
       "      <th>countryCode</th>\n",
       "      <th>countryName</th>\n",
       "    </tr>\n",
       "  </thead>\n",
       "  <tbody>\n",
       "  </tbody>\n",
       "</table>\n",
       "</div>"
      ],
      "text/plain": [
       "Empty DataFrame\n",
       "Columns: [countryID, countryCode, countryName]\n",
       "Index: []"
      ]
     },
     "execution_count": 64,
     "metadata": {},
     "output_type": "execute_result"
    }
   ],
   "source": [
    "dimCountry.loc[dimCountry['countryCode'] == 'XKX', 'countryName'] = 'Republic of Kosovo'\n",
    "dimCountry.loc[dimCountry['countryCode'] == 'SCG', 'countryName'] = 'Serbia and Montenegro'\n",
    "dimCountry.loc[dimCountry['countryCode'] == 'TUR', 'countryName'] = 'Turkey'\n",
    "\n",
    "# should now have no rows\n",
    "dimCountry[dimCountry['countryName'] == 'Unknown']"
   ]
  },
  {
   "cell_type": "code",
   "execution_count": 65,
   "id": "37234f5f",
   "metadata": {},
   "outputs": [],
   "source": [
    "# more cleaning here"
   ]
  },
  {
   "cell_type": "markdown",
   "id": "4272a28d-40c4-4078-ad1b-6f56f9614cd4",
   "metadata": {
    "tags": []
   },
   "source": [
    "# 2.2. Transforming the data"
   ]
  },
  {
   "cell_type": "code",
   "execution_count": null,
   "id": "fe4a6e80",
   "metadata": {},
   "outputs": [],
   "source": []
  },
  {
   "cell_type": "markdown",
   "id": "e5c51523-9561-40b9-94e9-a347a3f6726c",
   "metadata": {
    "tags": []
   },
   "source": [
    "# 3. Loading the data to the data warehouse"
   ]
  },
  {
   "cell_type": "code",
   "execution_count": 66,
   "id": "951299e8",
   "metadata": {},
   "outputs": [],
   "source": [
    "# export data as CSV files\n",
    "combined_df.to_csv('combined_dataframe.csv', index=False)\n",
    "dimSector.to_csv('dimSector.csv', index=False)\n",
    "dimCountry.to_csv('dimCountry.csv', index=False)\n",
    "dimGas.to_csv('dimGas.csv', index=False)\n",
    "dimSubSector.to_csv('dimSubSector.csv', index=False)\n",
    "dimYear.to_csv('dimYear.csv', index=False)"
   ]
  },
  {
   "cell_type": "code",
   "execution_count": null,
   "id": "a7cc92ad",
   "metadata": {},
   "outputs": [],
   "source": []
  }
 ],
 "metadata": {
  "kernelspec": {
   "display_name": "Python 3 (ipykernel)",
   "language": "python",
   "name": "python3"
  },
  "language_info": {
   "codemirror_mode": {
    "name": "ipython",
    "version": 3
   },
   "file_extension": ".py",
   "mimetype": "text/x-python",
   "name": "python",
   "nbconvert_exporter": "python",
   "pygments_lexer": "ipython3",
   "version": "3.11.4"
  }
 },
 "nbformat": 4,
 "nbformat_minor": 5
}
